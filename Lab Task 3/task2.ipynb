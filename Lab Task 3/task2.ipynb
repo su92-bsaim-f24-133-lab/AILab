{
 "cells": [
  {
   "cell_type": "code",
   "execution_count": null,
   "id": "e9702412",
   "metadata": {},
   "outputs": [
    {
     "name": "stdout",
     "output_type": "stream",
     "text": [
      "--- Room AC Status ---\n",
      "Living Room (Temp: 36°C) => AC is turned ON\n",
      "Bedroom (Temp: 32°C) => AC is turned OFF\n",
      "Kitchen (Temp: 34°C) => AC is not needed\n"
     ]
    }
   ],
   "source": [
    "import csv\n",
    "import os\n",
    "\n",
    "class ThermostatController:\n",
    "    def __init__(self, desired_temp):\n",
    "        self.desired_temp = desired_temp\n",
    "\n",
    "    def get_ac_status(self, current_temp):\n",
    "        if current_temp > self.desired_temp:\n",
    "            return \"AC is turned ON\"\n",
    "        elif current_temp < self.desired_temp:\n",
    "            return \"AC is turned OFF\"\n",
    "        else:\n",
    "            return \"AC is not needed\"\n",
    "\n",
    "\n",
    "my_controller = ThermostatController(34)\n",
    "\n",
    "# Create a sample CSV file if it does not exist\n",
    "if not os.path.exists(\"rooms_temps.csv\"):\n",
    "    with open(\"rooms_temps.csv\", \"w\", newline=\"\") as file:\n",
    "        writer = csv.writer(file)\n",
    "        writer.writerow([\"Room\", \"Temperature\"])\n",
    "        writer.writerow([\"Living Room\", 36])\n",
    "        writer.writerow([\"Bedroom\", 32])\n",
    "        writer.writerow([\"Kitchen\", 34])\n",
    "\n",
    "# Read room data from a CSV file.\n",
    "with open(\"rooms_temps.csv\", \"r\") as file:\n",
    "    reader = csv.reader(file)\n",
    "    next(reader)  # Skip the header row.\n",
    "\n",
    "    print(\"Room AC Status \")\n",
    "    for row in reader:\n",
    "        room_name = row[0]\n",
    "        room_temp = int(row[1])\n",
    "        \n",
    "        # Get the AC status for the current room.\n",
    "        status = my_controller.get_ac_status(room_temp)\n",
    "        \n",
    "        # Print the result.\n",
    "        print(f\"{room_name} (Temp: {room_temp}°C) => {status}\")"
   ]
  },
  {
   "cell_type": "code",
   "execution_count": null,
   "id": "f5340992",
   "metadata": {},
   "outputs": [],
   "source": []
  }
 ],
 "metadata": {
  "kernelspec": {
   "display_name": "base",
   "language": "python",
   "name": "python3"
  },
  "language_info": {
   "codemirror_mode": {
    "name": "ipython",
    "version": 3
   },
   "file_extension": ".py",
   "mimetype": "text/x-python",
   "name": "python",
   "nbconvert_exporter": "python",
   "pygments_lexer": "ipython3",
   "version": "3.12.7"
  }
 },
 "nbformat": 4,
 "nbformat_minor": 5
}
