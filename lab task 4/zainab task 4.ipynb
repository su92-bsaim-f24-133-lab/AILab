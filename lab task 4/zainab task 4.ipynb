{
 "cells": [
  {
   "cell_type": "code",
   "execution_count": null,
   "id": "1a52fa67",
   "metadata": {},
   "outputs": [
    {
     "name": "stdout",
     "output_type": "stream",
     "text": [
      "HelloHowareyouPython32025\n"
     ]
    }
   ],
   "source": [
    "text = \"Hello! How are you? #Python3 @2025\"\n",
    "\n",
    "clean_text = \"\".join([ch for ch in text if ch.isalnum()])\n",
    "\n",
    "print(clean_text)\n"
   ]
  },
  {
   "cell_type": "code",
   "execution_count": 3,
   "id": "f289d441",
   "metadata": {},
   "outputs": [
    {
     "name": "stdout",
     "output_type": "stream",
     "text": [
      "   aaabeiimmnnsyz\n",
      "Words sorted: is my name zainab\n"
     ]
    }
   ],
   "source": [
    "text = \"my name is zainab\"\n",
    "\n",
    "letters = sorted(text)  \n",
    "sorted_letters = \"\".join(letters)\n",
    "print(sorted_letters)\n",
    "\n",
    "words = text.split()\n",
    "i = 0\n",
    "while i < len(words):\n",
    "    j = i + 1\n",
    "    while j < len(words):\n",
    "        if words[i] > words[j]:\n",
    "            words[i], words[j] = words[j], words[i]\n",
    "        j += 1\n",
    "    i += 1\n",
    "\n",
    "sorted_words = \" \".join(words)\n",
    "print(\"Words sorted:\", sorted_words)"
   ]
  },
  {
   "cell_type": "code",
   "execution_count": null,
   "id": "c820f517",
   "metadata": {},
   "outputs": [
    {
     "name": "stdout",
     "output_type": "stream",
     "text": [
      "Digits: [7, 5, 8, 9, 3, 5, 1, 2, 8, 6, 9, 7, 6, 8, 5, 5]\n",
      "Check digit: 5\n",
      "Reversed: [5, 8, 6, 7, 9, 6, 8, 2, 1, 5, 3, 9, 8, 5, 7]\n",
      "Total Sum: 87\n",
      "The card number is INVALID.\n"
     ]
    }
   ],
   "source": [
    "card_number = \"7589351286976855\"\n",
    "\n",
    "digits = [int(x) for x in card_number]\n",
    "print(\"Digits:\", digits)\n",
    "\n",
    "check = digits.pop()   \n",
    "print(\"Check digit:\", check)\n",
    "\n",
    "rev = digits[::-1]\n",
    "print(\"Reversed:\", rev)\n",
    "\n",
    "for index in range(0, len(rev), 2):\n",
    "    rev[index] *= 2\n",
    "    if rev[index] > 9:\n",
    "        rev[index] -= 9\n",
    "\n",
    "total_sum = sum(rev) + check\n",
    "print(\"Total Sum:\", total_sum)\n",
    "\n",
    "if total_sum % 10 == 0:\n",
    "    print(\"The card number is VALID.\")\n",
    "else:\n",
    "    print(\"The card number is INVALID.\")\n"
   ]
  }
 ],
 "metadata": {
  "kernelspec": {
   "display_name": "Python 3",
   "language": "python",
   "name": "python3"
  },
  "language_info": {
   "codemirror_mode": {
    "name": "ipython",
    "version": 3
   },
   "file_extension": ".py",
   "mimetype": "text/x-python",
   "name": "python",
   "nbconvert_exporter": "python",
   "pygments_lexer": "ipython3",
   "version": "3.11.9"
  }
 },
 "nbformat": 4,
 "nbformat_minor": 5
}
