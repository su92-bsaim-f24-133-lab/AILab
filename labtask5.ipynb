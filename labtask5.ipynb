{
 "cells": [
  {
   "cell_type": "code",
   "execution_count": 1,
   "id": "f08e1f3b",
   "metadata": {},
   "outputs": [
    {
     "name": "stdout",
     "output_type": "stream",
     "text": [
      "Exist\n",
      "['a', 'b', 'd', 'e', 'c', 'f', 'g']\n"
     ]
    }
   ],
   "source": [
    "tree = {\n",
    "    \"a\": ['b', 'c'],\n",
    "    \"b\": ['d', 'e'],\n",
    "    \"c\": ['f'],\n",
    "    \"d\": [],\n",
    "    \"e\": [],\n",
    "    \"f\": ['g'],\n",
    "    \"g\": []\n",
    "}\n",
    "\n",
    "start = \"a\"\n",
    "end = \"g\"\n",
    "visited = list()\n",
    "\n",
    "def dfs_stack(start, end):\n",
    "    stack = [start]  \n",
    "\n",
    "    while stack:\n",
    "        node = stack.pop()  \n",
    "        if node not in visited:\n",
    "            visited.append(node)  \n",
    "            if node == end:\n",
    "                print(\"Exist\")\n",
    "                return\n",
    "            \n",
    "            for child in reversed(tree[node]):\n",
    "                stack.append(child)\n",
    "\n",
    "\n",
    "dfs_stack(start, end)\n",
    "print(visited)\n"
   ]
  }
 ],
 "metadata": {
  "kernelspec": {
   "display_name": "Python 3",
   "language": "python",
   "name": "python3"
  },
  "language_info": {
   "codemirror_mode": {
    "name": "ipython",
    "version": 3
   },
   "file_extension": ".py",
   "mimetype": "text/x-python",
   "name": "python",
   "nbconvert_exporter": "python",
   "pygments_lexer": "ipython3",
   "version": "3.11.9"
  }
 },
 "nbformat": 4,
 "nbformat_minor": 5
}
